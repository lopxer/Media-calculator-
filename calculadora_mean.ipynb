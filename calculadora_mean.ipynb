{
  "nbformat": 4,
  "nbformat_minor": 0,
  "metadata": {
    "colab": {
      "provenance": []
    },
    "kernelspec": {
      "name": "python3",
      "display_name": "Python 3"
    },
    "language_info": {
      "name": "python"
    }
  },
  "cells": [
    {
      "cell_type": "code",
      "execution_count": 38,
      "metadata": {
        "colab": {
          "base_uri": "https://localhost:8080/"
        },
        "id": "ZSEbT6aBCyvs",
        "outputId": "37a2837a-c154-49db-e358-bd6990aa5f3d"
      },
      "outputs": [
        {
          "output_type": "stream",
          "name": "stdout",
          "text": [
            "nome de usuairo leonarod\n",
            "digite nota 1: 10\n",
            "digite nota 2: 7\n",
            "digite nota 3: 5\n",
            "A média das notas é: 7.333333333333333\n",
            "Aprovado\n"
          ]
        }
      ],
      "source": [
        "username = input(\"nome de usuairo \")\n",
        "while True:\n",
        "    nota1 = eval(input(\"digite nota 1: \"))\n",
        "    nota2 = eval(input(\"digite nota 2: \"))\n",
        "    nota3 = eval(input(\"digite nota 3: \"))\n",
        "\n",
        "    media = (nota1 + nota2 + nota3) / 3\n",
        "    print(\"A média das notas é:\", media)\n",
        "    break\n",
        "\n",
        "while True:\n",
        "\n",
        "    if media <= 7:\n",
        "        print(\"Reprovado\")\n",
        "    else:\n",
        "        print(\"Aprovado\")\n",
        "        break\n",
        "\n",
        "\n",
        "\n",
        "\n",
        "\n"
      ]
    },
    {
      "cell_type": "code",
      "source": [],
      "metadata": {
        "id": "96sTuYeODFst"
      },
      "execution_count": null,
      "outputs": []
    }
  ]
}